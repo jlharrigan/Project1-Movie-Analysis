{
 "cells": [
  {
   "cell_type": "markdown",
   "metadata": {},
   "source": [
    "## Raw code notebook"
   ]
  },
  {
   "cell_type": "code",
   "execution_count": 28,
   "metadata": {},
   "outputs": [],
   "source": [
    "import pandas as pd\n",
    "import sqlite3\n",
    "import re\n",
    "import seaborn as sns\n",
    "import matplotlib.pyplot as plt\n",
    "%matplotlib inline\n",
    "\n",
    "pd.set_option('display.float_format', lambda x: '%.f' % x)\n",
    "\n",
    "bom_df = pd.read_csv('./zippedData/bom.movie_gross.csv.gz')\n",
    "ret_info_df = pd.read_csv('./zippedData/rt.movie_info.tsv.gz', sep = '\\t')\n",
    "ret_reviews_df = pd.read_csv('./zippedData/rt.reviews.tsv.gz', sep = '\\t', encoding='unicode_escape')\n",
    "tmdb_df = pd.read_csv('./zippedData/tmdb.movies.csv.gz', index_col=0)\n",
    "tn_df = pd.read_csv('./zippedData/tn.movie_budgets.csv.gz')\n",
    "conn = sqlite3.Connection('./zippedData/john/im.db')"
   ]
  },
  {
   "cell_type": "markdown",
   "metadata": {},
   "source": [
    "## Cleaning the data from 'The Movie Database'"
   ]
  },
  {
   "cell_type": "code",
   "execution_count": 29,
   "metadata": {},
   "outputs": [],
   "source": [
    "tmdb_df.drop('original_title', axis=1, inplace = True)\n",
    "tmdb_df['genre_ids'].replace(to_replace= '[]', value = '[7]', inplace = True)\n",
    "getGenre = {\n",
    "    '7': 'undecided', '12': 'Adventure', '14': 'Fantasy', '16': 'Animation', '18': 'Drama', '27': 'Horror', '28': 'Action',\n",
    "    '35': 'Comedy', '36': 'History', '37': 'Western', '53': 'Thriller', '80': 'Crime', '99': 'Documentary', \n",
    "    '878': 'Science Fiction','9648': 'Mystery','10402': 'Music','10749':'Romance','10751': 'Family','10752': 'War','10770': 'TV'\n",
    "}\n",
    "def convert(glist):\n",
    "    description = ''\n",
    "    for num in glist.strip('][').split(', '):\n",
    "        description += getGenre[num]\n",
    "        description += ', '\n",
    "    return description.rstrip(', ')\n",
    "tmdb_df['genre_ids'] = tmdb_df['genre_ids'].map(lambda x: convert(x))\n",
    "tmdb_df.drop(['id', 'original_language'], axis=1, inplace=True)\n",
    "tmdb_df = tmdb_df[['title', 'release_date', 'genre_ids', 'popularity', 'vote_average', 'vote_count']]\n",
    "tmdb_df.drop_duplicates(inplace=True)"
   ]
  },
  {
   "cell_type": "markdown",
   "metadata": {},
   "source": [
    "## Cleaning the data from 'The Numbers'"
   ]
  },
  {
   "cell_type": "code",
   "execution_count": 4,
   "metadata": {},
   "outputs": [],
   "source": [
    "tn_df['release_date'] = pd.to_datetime(tn_df['release_date'])\n",
    "tn_df['production_budget'] = tn_df['production_budget'].map(lambda x: int(x.replace('$','').replace(',','')))\n",
    "tn_df['domestic_gross'] = tn_df['domestic_gross'].map(lambda x: int(x.replace('$','').replace(',','')))\n",
    "tn_df['worldwide_gross'] = tn_df['worldwide_gross'].map(lambda x: int(x.replace('$','').replace(',','')))"
   ]
  },
  {
   "cell_type": "markdown",
   "metadata": {},
   "source": [
    "## Clean the data from 'Box Office Mojo'"
   ]
  },
  {
   "cell_type": "code",
   "execution_count": 5,
   "metadata": {},
   "outputs": [],
   "source": [
    "bom_df['foreign_gross'] = bom_df['foreign_gross'].fillna('0')\n",
    "bom_df['foreign_gross'] = bom_df['foreign_gross'].map(lambda x: x.replace(',', '')).map(lambda x: float(x))\n",
    "bom_df['domestic_gross'] = bom_df['domestic_gross'].astype(float)"
   ]
  },
  {
   "cell_type": "markdown",
   "metadata": {},
   "source": [
    "## Merge and clean the differnt tables from 'IMDB'"
   ]
  },
  {
   "cell_type": "code",
   "execution_count": 6,
   "metadata": {},
   "outputs": [],
   "source": [
    "mvi = pd.read_sql('''\n",
    "SELECT movie_id, (primary_title) AS title, (start_year) year, (runtime_minutes) AS runtime, genres,\n",
    "(averagerating) AS avg_rating, numvotes\n",
    "FROM movie_basics\n",
    "LEFT JOIN movie_ratings\n",
    "USING(movie_id)\n",
    "\n",
    "''', conn)\n",
    "\n",
    "directors = pd.read_sql('''\n",
    "SELECT movie_id, (primary_name) AS director\n",
    "FROM principals\n",
    "JOIN persons\n",
    "USING(person_id)\n",
    "WHERE category = 'director'\n",
    "''', conn)\n",
    "directors = directors.drop_duplicates()\n",
    "directors = directors.groupby('movie_id').agg(lambda x: x.tolist()).reset_index()\n",
    "\n",
    "actors = pd.read_sql('''\n",
    "SELECT movie_id, (primary_name) AS actors\n",
    "FROM principals\n",
    "JOIN persons\n",
    "USING(person_id)\n",
    "WHERE category = 'actor'\n",
    "ORDER BY movie_id\n",
    "''', conn)\n",
    "actors = actors.drop_duplicates()\n",
    "actors = actors.groupby('movie_id').agg(lambda x: x.tolist()).reset_index()\n",
    "\n",
    "draft1 = pd.merge(mvi,directors, how = 'left', on = 'movie_id')\n",
    "sql_df = pd.merge(draft1, actors, how = 'left', on = 'movie_id')\n",
    "sql_df['runtime'].fillna(sql_df['runtime'].median(), inplace = True)\n",
    "sql_df.drop('movie_id', axis=1, inplace=True)"
   ]
  },
  {
   "cell_type": "markdown",
   "metadata": {},
   "source": [
    "## Merge 'Box Office Mojo' with 'The Numbers'"
   ]
  },
  {
   "cell_type": "code",
   "execution_count": null,
   "metadata": {},
   "outputs": [],
   "source": [
    "bomtn = pd.merge(bom_df, tn_df, how='outer', left_on='title', right_on='movie')\n",
    "\n",
    "bomtn['title'] = bomtn['title'].fillna(bomtn['movie'])\n",
    "bomtn['domestic_gross_x'] = bomtn['domestic_gross_x'].fillna(bomtn['domestic_gross_y'])\n",
    "bomtn['foreign_gross'] = bomtn['foreign_gross'].fillna(bomtn['worldwide_gross'] - bomtn['domestic_gross_y'])\n",
    "bomtn['release_date'] = bomtn['release_date'].fillna(pd.to_datetime(bomtn['year'], format='%Y'))\n",
    "bomtn.drop(bomtn.columns[[1, 4, 5, 7, 9, 10]], axis=1, inplace=True)\n",
    "bomtn = bomtn[['title','release_date','production_budget', 'domestic_gross_x', 'foreign_gross']]\n",
    "bomtn.rename(columns={'domestic_gross_x':'domestic_gross'}, inplace=True)\n",
    "bomtn['worldwide_gross'] = bomtn['domestic_gross'] + bomtn['foreign_gross']\n",
    "bomtn.dropna(inplace=True)\n",
    "bomtn = bomtn[bomtn['worldwide_gross'] != 0.0]"
   ]
  },
  {
   "cell_type": "code",
   "execution_count": null,
   "metadata": {},
   "outputs": [],
   "source": []
  },
  {
   "cell_type": "code",
   "execution_count": 31,
   "metadata": {},
   "outputs": [],
   "source": [
    "tmdbsql = pd.merge(sql_df, tmdb_df,how ='outer', on='title' )\n",
    "tmdbsql['avg_rating'] = tmdbsql['avg_rating'].fillna(tmdbsql['vote_average'])\n",
    "tmdbsql['numvotes'] = tmdbsql['numvotes'].fillna(tmdbsql['vote_count'])\n",
    "tmdbsql['genres'] = tmdbsql['genres'].fillna(tmdbsql['genre_ids'])"
   ]
  },
  {
   "cell_type": "code",
   "execution_count": 33,
   "metadata": {},
   "outputs": [
    {
     "data": {
      "text/plain": [
       "title              0\n",
       "year               0\n",
       "runtime            0\n",
       "genres           331\n",
       "avg_rating      3502\n",
       "numvotes        3502\n",
       "director        2003\n",
       "actors          4517\n",
       "release_date       0\n",
       "genre_ids          0\n",
       "popularity         0\n",
       "vote_average       0\n",
       "vote_count         0\n",
       "dtype: int64"
      ]
     },
     "execution_count": 33,
     "metadata": {},
     "output_type": "execute_result"
    }
   ],
   "source": [
    "pd.merge(sql_df, tmdb_df,how ='inner', on='title' ).isna().sum()"
   ]
  },
  {
   "cell_type": "code",
   "execution_count": null,
   "metadata": {},
   "outputs": [],
   "source": []
  },
  {
   "cell_type": "code",
   "execution_count": 54,
   "metadata": {},
   "outputs": [
    {
     "data": {
      "text/html": [
       "<div>\n",
       "<style scoped>\n",
       "    .dataframe tbody tr th:only-of-type {\n",
       "        vertical-align: middle;\n",
       "    }\n",
       "\n",
       "    .dataframe tbody tr th {\n",
       "        vertical-align: top;\n",
       "    }\n",
       "\n",
       "    .dataframe thead th {\n",
       "        text-align: right;\n",
       "    }\n",
       "</style>\n",
       "<table border=\"1\" class=\"dataframe\">\n",
       "  <thead>\n",
       "    <tr style=\"text-align: right;\">\n",
       "      <th></th>\n",
       "      <th>year</th>\n",
       "      <th>runtime</th>\n",
       "    </tr>\n",
       "  </thead>\n",
       "  <tbody>\n",
       "    <tr>\n",
       "      <th>0</th>\n",
       "      <td>2010</td>\n",
       "      <td>86</td>\n",
       "    </tr>\n",
       "    <tr>\n",
       "      <th>1</th>\n",
       "      <td>2011</td>\n",
       "      <td>87</td>\n",
       "    </tr>\n",
       "    <tr>\n",
       "      <th>2</th>\n",
       "      <td>2012</td>\n",
       "      <td>89</td>\n",
       "    </tr>\n",
       "    <tr>\n",
       "      <th>3</th>\n",
       "      <td>2013</td>\n",
       "      <td>85</td>\n",
       "    </tr>\n",
       "    <tr>\n",
       "      <th>4</th>\n",
       "      <td>2014</td>\n",
       "      <td>85</td>\n",
       "    </tr>\n",
       "    <tr>\n",
       "      <th>5</th>\n",
       "      <td>2015</td>\n",
       "      <td>86</td>\n",
       "    </tr>\n",
       "    <tr>\n",
       "      <th>6</th>\n",
       "      <td>2016</td>\n",
       "      <td>85</td>\n",
       "    </tr>\n",
       "    <tr>\n",
       "      <th>7</th>\n",
       "      <td>2017</td>\n",
       "      <td>86</td>\n",
       "    </tr>\n",
       "    <tr>\n",
       "      <th>8</th>\n",
       "      <td>2018</td>\n",
       "      <td>87</td>\n",
       "    </tr>\n",
       "    <tr>\n",
       "      <th>9</th>\n",
       "      <td>2019</td>\n",
       "      <td>89</td>\n",
       "    </tr>\n",
       "    <tr>\n",
       "      <th>10</th>\n",
       "      <td>2020</td>\n",
       "      <td>87</td>\n",
       "    </tr>\n",
       "    <tr>\n",
       "      <th>11</th>\n",
       "      <td>2021</td>\n",
       "      <td>88</td>\n",
       "    </tr>\n",
       "    <tr>\n",
       "      <th>12</th>\n",
       "      <td>2022</td>\n",
       "      <td>89</td>\n",
       "    </tr>\n",
       "    <tr>\n",
       "      <th>13</th>\n",
       "      <td>2023</td>\n",
       "      <td>87</td>\n",
       "    </tr>\n",
       "    <tr>\n",
       "      <th>14</th>\n",
       "      <td>2024</td>\n",
       "      <td>87</td>\n",
       "    </tr>\n",
       "    <tr>\n",
       "      <th>15</th>\n",
       "      <td>2025</td>\n",
       "      <td>87</td>\n",
       "    </tr>\n",
       "    <tr>\n",
       "      <th>16</th>\n",
       "      <td>2026</td>\n",
       "      <td>87</td>\n",
       "    </tr>\n",
       "    <tr>\n",
       "      <th>17</th>\n",
       "      <td>2027</td>\n",
       "      <td>87</td>\n",
       "    </tr>\n",
       "    <tr>\n",
       "      <th>18</th>\n",
       "      <td>2115</td>\n",
       "      <td>87</td>\n",
       "    </tr>\n",
       "  </tbody>\n",
       "</table>\n",
       "</div>"
      ],
      "text/plain": [
       "    year  runtime\n",
       "0   2010       86\n",
       "1   2011       87\n",
       "2   2012       89\n",
       "3   2013       85\n",
       "4   2014       85\n",
       "5   2015       86\n",
       "6   2016       85\n",
       "7   2017       86\n",
       "8   2018       87\n",
       "9   2019       89\n",
       "10  2020       87\n",
       "11  2021       88\n",
       "12  2022       89\n",
       "13  2023       87\n",
       "14  2024       87\n",
       "15  2025       87\n",
       "16  2026       87\n",
       "17  2027       87\n",
       "18  2115       87"
      ]
     },
     "execution_count": 54,
     "metadata": {},
     "output_type": "execute_result"
    }
   ],
   "source": [
    "run = sql_df[['year', 'runtime']].dropna()\n",
    "runtime = run.groupby('year').agg('mean').reset_index()\n",
    "runtime"
   ]
  }
 ],
 "metadata": {
  "kernelspec": {
   "display_name": "Python 3",
   "language": "python",
   "name": "python3"
  },
  "language_info": {
   "codemirror_mode": {
    "name": "ipython",
    "version": 3
   },
   "file_extension": ".py",
   "mimetype": "text/x-python",
   "name": "python",
   "nbconvert_exporter": "python",
   "pygments_lexer": "ipython3",
   "version": "3.8.5"
  }
 },
 "nbformat": 4,
 "nbformat_minor": 4
}
