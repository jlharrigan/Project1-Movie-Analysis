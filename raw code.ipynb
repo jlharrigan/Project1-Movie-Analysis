{
 "cells": [
  {
   "cell_type": "markdown",
   "metadata": {},
   "source": [
    "## Raw code notebook"
   ]
  },
  {
   "cell_type": "code",
   "execution_count": null,
   "metadata": {},
   "outputs": [],
   "source": [
    "import pandas as pd\n",
    "import sqlite3\n",
    "import re\n",
    "import seaborn as sns\n",
    "import matplotlib.pyplot as plt\n",
    "import datetime\n",
    "%matplotlib inline\n",
    "\n",
    "# Clean up the larger numbers in the dataframes\n",
    "pd.set_option('display.float_format', lambda x: '%.f' % x)\n",
    "\n",
    "#upload the data from the various databases\n",
    "bom_df = pd.read_csv('./zippedData/bom.movie_gross.csv.gz')\n",
    "tmdb_df = pd.read_csv('./zippedData/tmdb.movies.csv.gz', index_col=0)\n",
    "tn_df = pd.read_csv('./zippedData/tn.movie_budgets.csv.gz')\n",
    "conn = sqlite3.Connection('./zippedData/john/im.db')"
   ]
  },
  {
   "cell_type": "markdown",
   "metadata": {},
   "source": [
    "## Cleaning the data from 'The Movie Database'"
   ]
  },
  {
   "cell_type": "code",
   "execution_count": null,
   "metadata": {},
   "outputs": [],
   "source": [
    "# I didnt need the original title of the movie\n",
    "tmdb_df.drop('original_title', axis=1, inplace = True)\n",
    "# Here i replace all of the genre cells that have no value with their own 'undecided' category\n",
    "tmdb_df['genre_ids'].replace(to_replace= '[]', value = '[7]', inplace = True)\n",
    "# This dictionary will translate the numbers into actuall genre strings\n",
    "getGenre = {\n",
    "    '7': 'undecided', '12': 'Adventure', '14': 'Fantasy', '16': 'Animation', '18': 'Drama', '27': 'Horror', '28': 'Action',\n",
    "    '35': 'Comedy', '36': 'History', '37': 'Western', '53': 'Thriller', '80': 'Crime', '99': 'Documentary', \n",
    "    '878': 'Sci-Fi','9648': 'Mystery','10402': 'Music','10749':'Romance','10751': 'Family','10752': 'War','10770': 'TV'\n",
    "}\n",
    "\n",
    "# this function will take in a list of genres in string form, extract the numbers representing individual \n",
    "# genres, and use the above dictionary to return the actuall name of the genre\n",
    "def convert(glist):\n",
    "    description = ''\n",
    "    for num in glist.strip('][').split(', '):\n",
    "        description += getGenre[num]\n",
    "        description += ','\n",
    "    return description.rstrip(',')\n",
    "\n",
    "# This will convert the genre numbers into genre titles\n",
    "tmdb_df['genre_ids'] = tmdb_df['genre_ids'].map(lambda x: convert(x))\n",
    "# This will drop the unnecessary columns and then reorder the rest to be more organized\n",
    "tmdb_df = tmdb_df[['title', 'release_date', 'genre_ids', 'popularity', 'vote_average', 'vote_count']]\n",
    "# This will make the release date column into a datetime object column\n",
    "tmdb_df['release_date'] = pd.to_datetime(tmdb_df['release_date'])\n",
    "# Drops the duplicate entries\n",
    "tmdb_df.drop_duplicates(inplace=True)"
   ]
  },
  {
   "cell_type": "code",
   "execution_count": null,
   "metadata": {},
   "outputs": [],
   "source": [
    "#checks to see that the dataframe looks right\n",
    "tmdb_df.head()"
   ]
  },
  {
   "cell_type": "markdown",
   "metadata": {},
   "source": [
    "## Cleaning the data from 'The Numbers'"
   ]
  },
  {
   "cell_type": "code",
   "execution_count": null,
   "metadata": {},
   "outputs": [],
   "source": [
    "# changes the release_date column into a datetime column\n",
    "tn_df['release_date'] = pd.to_datetime(tn_df['release_date'])\n",
    "# changes the string of production_budget into an int\n",
    "tn_df['production_budget'] = tn_df['production_budget'].map(lambda x: int(x.replace('$','').replace(',','')))\n",
    "# changes the domestic into an int\n",
    "tn_df['domestic_gross'] = tn_df['domestic_gross'].map(lambda x: int(x.replace('$','').replace(',','')))\n",
    "# changes the worldwide into an int\n",
    "tn_df['worldwide_gross'] = tn_df['worldwide_gross'].map(lambda x: int(x.replace('$','').replace(',','')))\n",
    "# reorganizes the columns to be more organized\n",
    "tn_df = tn_df[['movie', 'release_date', 'production_budget', 'domestic_gross', 'worldwide_gross']]"
   ]
  },
  {
   "cell_type": "code",
   "execution_count": null,
   "metadata": {},
   "outputs": [],
   "source": [
    "# makes sure the dataframe is correct\n",
    "tn_df.head()"
   ]
  },
  {
   "cell_type": "markdown",
   "metadata": {},
   "source": [
    "## Clean the data from 'Box Office Mojo'"
   ]
  },
  {
   "cell_type": "code",
   "execution_count": null,
   "metadata": {},
   "outputs": [],
   "source": [
    "# this will fill the empty values of foreign gross with zero\n",
    "bom_df['foreign_gross'] = bom_df['foreign_gross'].fillna('0')\n",
    "# this will convert the values in foreign gross from ints to stings\n",
    "bom_df['foreign_gross'] = bom_df['foreign_gross'].map(lambda x: x.replace(',', '')).map(lambda x: float(x))\n",
    "# this will convert the domestic gross to float\n",
    "bom_df['domestic_gross'] = bom_df['domestic_gross'].astype(float)\n",
    "# this will reorganize the columns\n",
    "bom_df = bom_df[['title', 'year', 'domestic_gross', 'foreign_gross']]"
   ]
  },
  {
   "cell_type": "code",
   "execution_count": null,
   "metadata": {
    "scrolled": true
   },
   "outputs": [],
   "source": [
    "# make sure that the database looks right\n",
    "bom_df.head()"
   ]
  },
  {
   "cell_type": "markdown",
   "metadata": {},
   "source": [
    "## Merge and clean the differnt tables from 'IMDB'\n",
    "we will take in the different sql tables and put them together in order to get the info \n",
    "for the movie title, release date, runtime, votes, director, and actor"
   ]
  },
  {
   "cell_type": "code",
   "execution_count": null,
   "metadata": {},
   "outputs": [],
   "source": [
    "# this will get the relevant columns from the joined tables of movie_basics and movie_ratings using the common movie_id column\n",
    "mvi = pd.read_sql('''\n",
    "SELECT movie_id, (primary_title) AS title, (start_year) year, (runtime_minutes) AS runtime, genres,\n",
    "(averagerating) AS avg_rating, numvotes\n",
    "FROM movie_basics\n",
    "LEFT JOIN movie_ratings\n",
    "USING(movie_id)\n",
    "\n",
    "''', conn)\n",
    "\n",
    "# this will get the table of director info by joining the principals and persons tables\n",
    "directors = pd.read_sql('''\n",
    "SELECT movie_id, (primary_name) AS director\n",
    "FROM principals\n",
    "JOIN persons\n",
    "USING(person_id)\n",
    "WHERE category = 'director'\n",
    "''', conn)\n",
    "# there are sometimes multiple directors for each movie so these three lines will group them together by movie\n",
    "directors = directors.drop_duplicates()\n",
    "seperator = ','\n",
    "directors = directors.groupby('movie_id').agg(lambda x: seperator.join(x.tolist())).reset_index()\n",
    "\n",
    "# this will get the actors from the pricipals and perosn tables\n",
    "actors = pd.read_sql('''\n",
    "SELECT movie_id, (primary_name) AS actors\n",
    "FROM principals\n",
    "JOIN persons\n",
    "USING(person_id)\n",
    "WHERE category = 'actor'\n",
    "ORDER BY movie_id\n",
    "''', conn)\n",
    "# this will do the same thing for the actors that happened with directors\n",
    "actors = actors.drop_duplicates()\n",
    "actors = actors.groupby('movie_id').agg(lambda x: seperator.join(x.tolist())).reset_index()\n",
    "\n",
    "# first merge the tables of movies and directors\n",
    "draft1 = pd.merge(mvi,directors, how = 'left', on = 'movie_id')\n",
    "# then merge the result with the actors to get the final dataframe\n",
    "sql_df = pd.merge(draft1, actors, how = 'left', on = 'movie_id')\n",
    "# fill in the empty runtime rows witht the median so that you don't loose data\n",
    "sql_df['runtime'].fillna(sql_df['runtime'].median(), inplace = True)\n",
    "# now that everything is merged you no longer need the movie_id\n",
    "sql_df.drop('movie_id', axis=1, inplace=True)\n",
    "# get rid of the movies that are impossibly from the future\n",
    "sql_df= sql_df[sql_df['year'] <= 2024]\n",
    "# drop all of the empty records from the genres column because there are only a few and will not affect the larger dataframe\n",
    "sql_df.dropna(subset=['genres'], inplace=True)\n",
    "# drop the duplicate entries\n",
    "sql_df.drop_duplicates(inplace=True)"
   ]
  },
  {
   "cell_type": "code",
   "execution_count": null,
   "metadata": {},
   "outputs": [],
   "source": [
    "# check that the dataframe is correct\n",
    "sql_df"
   ]
  },
  {
   "cell_type": "markdown",
   "metadata": {},
   "source": [
    "## Merge 'Box Office Mojo' with 'The Numbers'\n",
    "we merge these tables together because they have almost the exact same data, makeing it a conveinient source for\n",
    "the revenue of each movie"
   ]
  },
  {
   "cell_type": "code",
   "execution_count": null,
   "metadata": {},
   "outputs": [],
   "source": [
    "# this will merge the two dataframes that share the common info about movie revenue\n",
    "bomtn = pd.merge(bom_df, tn_df, how='outer', left_on='title', right_on='movie')\n",
    "\n",
    "# making the first title column the primary so you fill it up where it is empty with the secondary title column\n",
    "bomtn['title'] = bomtn['title'].fillna(bomtn['movie'])\n",
    "# fill in the gaps witht the second domestic column\n",
    "bomtn['domestic_gross_x'] = bomtn['domestic_gross_x'].fillna(bomtn['domestic_gross_y'])\n",
    "# fill in the gaps with the difference in the worldwide and domestic secondary columns\n",
    "bomtn['foreign'] = (bomtn['worldwide_gross'] - bomtn['domestic_gross_y']).fillna(bomtn['foreign_gross'])\n",
    "# fill the release date with the converted datetime from the second date column\n",
    "bomtn['release_date'] = bomtn['release_date'].fillna(pd.to_datetime(bomtn['year'], format='%Y'))\n",
    "# fill the worldwide gross with the sum of the domestic and foreign\n",
    "bomtn['worldwide_gross'] = bomtn['worldwide_gross'].fillna(bomtn['domestic_gross_x'] + bomtn['foreign_gross'])\n",
    "# reorganize the columns and drop the unnecessary columns\n",
    "bomtn = bomtn[['title','release_date', 'domestic_gross_x', 'foreign', 'foreign_gross', 'worldwide_gross']]\n",
    "# rename the domestic column to be more readible\n",
    "bomtn.rename(columns={'domestic_gross_x':'domestic_gross'}, inplace=True)\n",
    "\n",
    "# drop all of the data that is empyt\n",
    "bomtn.dropna(inplace=True)\n",
    "bomtn = bomtn[bomtn['worldwide_gross'] != 0.0]"
   ]
  },
  {
   "cell_type": "code",
   "execution_count": null,
   "metadata": {},
   "outputs": [],
   "source": [
    "# check the dataframe\n",
    "bomtn.head()"
   ]
  },
  {
   "cell_type": "code",
   "execution_count": null,
   "metadata": {
    "scrolled": true
   },
   "outputs": [],
   "source": [
    "# this notes all of the data that have missing data in the foriegn column\n",
    "bomtn[(bomtn.domestic_gross > 10000000) & (bomtn.foreign < 1000000)].head()"
   ]
  },
  {
   "cell_type": "markdown",
   "metadata": {},
   "source": [
    "## Merge the tmdb_df and sql_df databases\n",
    "this will give us more rows of data to work with and it will fill some of the holes in each dataset"
   ]
  },
  {
   "cell_type": "code",
   "execution_count": null,
   "metadata": {},
   "outputs": [],
   "source": [
    "# merge the two dataframes\n",
    "tmdbsql = pd.merge(sql_df, tmdb_df,how ='outer', on='title' )\n",
    "# fill in the missing info with the other columns\n",
    "tmdbsql['avg_rating'] = tmdbsql['avg_rating'].fillna(tmdbsql['vote_average'])\n",
    "tmdbsql['numvotes'] = tmdbsql['numvotes'].fillna(tmdbsql['vote_count'])\n",
    "tmdbsql['genres'] = tmdbsql['genres'].fillna(tmdbsql['genre_ids'])\n",
    "tmdbsql['year'] = pd.to_datetime(tmdbsql['year'], format='%Y').fillna(tmdbsql['release_date'])\n",
    "# drop the duplicate columns\n",
    "tmdbsql.drop(['release_date', 'genre_ids', 'popularity', 'vote_average', 'vote_count'], axis=1, inplace = True)\n",
    "# sort the values by number of votes which indicates the popularity of the movie\n",
    "tmdbsql = tmdbsql.sort_values('numvotes', ascending=False)\n",
    "# get rid of the smaller movies with less than a hundred reviews\n",
    "tmdbsql = tmdbsql[tmdbsql['numvotes'] > 100]\n",
    "# change the datetime to be just the year because that is all we care about\n",
    "tmdbsql['year'] = pd.DatetimeIndex(tmdbsql['year']).year"
   ]
  },
  {
   "cell_type": "code",
   "execution_count": null,
   "metadata": {},
   "outputs": [],
   "source": [
    "tmdbsql.head()"
   ]
  },
  {
   "cell_type": "markdown",
   "metadata": {},
   "source": [
    "## Analyize the data and make a graph shoing the popularity of each genre\n",
    "you can do this by looking at the total number of reviews which is strong indicator of popularity since the more people\n",
    "that watch the movie the more poeple that write reviews"
   ]
  },
  {
   "cell_type": "code",
   "execution_count": null,
   "metadata": {
    "scrolled": false
   },
   "outputs": [],
   "source": [
    "# make a dataframe purley for this graph\n",
    "genre_pop = tmdbsql.dropna(subset=['avg_rating', 'numvotes'])\n",
    "\n",
    "#this loop will get the string list of genres and put each individual genre in a list\n",
    "categories = []\n",
    "for grlist in genre_pop['genres']:\n",
    "    for item in grlist.split(','):\n",
    "        categories.append(item)   \n",
    "\n",
    "# this set will show the complete list of all genre types with no duplicates\n",
    "allGenres = set(categories)\n",
    "\n",
    "# this for loop will go though the genres column and calculate each genres popularity by\n",
    "# finding the mean number of votes for each genre then putting that info into a dict\n",
    "popularity = {}   \n",
    "for genre in allGenres:\n",
    "    avg = genre_pop[genre_pop['genres'].str.contains(genre)]['numvotes'].mean()\n",
    "    popularity[genre] = avg\n",
    "    \n",
    "# this puts the dict info into an easy format for the graph\n",
    "x = sorted(popularity, key=popularity.get, reverse = True)\n",
    "y = sorted(popularity.values(), reverse = True)\n",
    "\n",
    "# this graphs the average number of reviews per genre\n",
    "fig, ax= plt.subplots(figsize=(10,5))\n",
    "ax.grid(zorder=0)\n",
    "ax.bar(x, y, zorder=3)\n",
    "ax.set_xlabel('Genres', fontsize=15)\n",
    "ax.set_ylabel('Average number of reviews', fontsize=15)\n",
    "ax.set_title('Average number of reviews per genre', fontsize=20)\n",
    "plt.xticks(rotation=45, ha='right')\n",
    "\n",
    "plt.show();"
   ]
  },
  {
   "cell_type": "markdown",
   "metadata": {},
   "source": [
    "## Analyize the directors to find the best of the best \n",
    "Using the previous graph we can find the most successful directors for each of the four most popular genres.\n",
    "This first block is my own function that will take a genre string as a parameter as a string and return a nested list \n",
    "containing the names and average number of reviews for each of the three most successful directors in each of the four most\n",
    "popular genres"
   ]
  },
  {
   "cell_type": "code",
   "execution_count": null,
   "metadata": {},
   "outputs": [],
   "source": [
    "# takes the genre as a string parameter\n",
    "def getBestDirectors(genre):\n",
    "    # these are samples of the bigger dataframe used specifically for this graph\n",
    "    best_direct = tmdbsql.dropna(subset = ['director', 'numvotes'])\n",
    "    movies = best_direct[best_direct['genres'].str.contains(genre)]\n",
    "\n",
    "    # this for loop finds a list of all the directors for all the movies\n",
    "    master_list = []\n",
    "    for dlist in movies['director']:\n",
    "        for direct in dlist.split(','):\n",
    "            master_list.append(direct)\n",
    "            \n",
    "    # this set eliminates the duplicate directors\n",
    "    directors = set(master_list)\n",
    "\n",
    "    # this for loop will create a dictionary that has the names of each director for keys and their success measured by \n",
    "    # the mean number of reviews as the values\n",
    "    director_success = {}\n",
    "    for director in directors:\n",
    "        success = movies[movies['director'].str.contains(director)]['numvotes'].mean()\n",
    "        director_success[director] = success\n",
    "    \n",
    "    # this puts the dict info into a easier form for the graph and limits it to just the top three directors\n",
    "    x = sorted(director_success, key = director_success.get, reverse = True)[:3]\n",
    "    y = sorted(director_success.values(), reverse=True)[:3]\n",
    "    \n",
    "    return [x, y]"
   ]
  },
  {
   "cell_type": "code",
   "execution_count": null,
   "metadata": {},
   "outputs": [],
   "source": [
    "# these lines get the info for the top three directors for each of the four genres\n",
    "action = getBestDirectors('Action')\n",
    "adventure = getBestDirectors('Adventure')\n",
    "scifi = getBestDirectors('Sci-Fi')\n",
    "fantasy = getBestDirectors('Fantasy')\n",
    "\n",
    "# this gets the masterlist for the best directors and the top genres\n",
    "the_best = set(action[0] + adventure[0] + scifi[0] + fantasy[0])\n",
    "top_genres = ['Action', 'Adventure', 'Sci-Fi', 'Fantasy']\n",
    "\n",
    "# these lines will clean up the dataframe so that only the information about the relvent direcotrs and genres remains\n",
    "bdf = tmdbsql.dropna(subset = ['director', 'actors', 'numvotes'])\n",
    "bdf = bdf[['genres', 'numvotes', 'director']]\n",
    "bdf = bdf[bdf['genres'].map(lambda x: any(substr in x for substr in top_genres))]\n",
    "bdf = bdf[bdf['director'].map(lambda x: any(substr in x for substr in the_best))]\n",
    "\n",
    "# this fore loop will go through and split up the director list for movies that have multiple directors and put the new \n",
    "# duplicated entries in a new dataframe\n",
    "splitdir = pd.DataFrame(columns = ['genres', 'numvotes', 'director'])\n",
    "for x, y in bdf.iterrows():\n",
    "    for director in y['director'].split(','):\n",
    "        splitdir.loc[len(splitdir.index)] = [y['genres'], y['numvotes'], director]\n",
    "        \n",
    "# this fore loop does the same thing as the one above except for the list of genres rather than directors\n",
    "newdf = pd.DataFrame(columns = ['genres', 'numvotes', 'director'])\n",
    "for x, y in splitdir.iterrows():\n",
    "    for genre in y['genres'].split(','):\n",
    "        newdf.loc[len(newdf.index)] = [genre, y['numvotes'], y['director']]\n",
    "        \n",
    "# after splitting up the genres we will get some entries that are not one of the four we are looking for so we filter them out\n",
    "newdf = newdf[newdf['genres'].map(lambda x: x in top_genres)]\n",
    "newdf = newdf[newdf['director'].map(lambda x: x in the_best)]"
   ]
  },
  {
   "cell_type": "code",
   "execution_count": null,
   "metadata": {},
   "outputs": [],
   "source": [
    "# this will graph the popularity of each director according to number of votes per each of the four genres\n",
    "fig, ax = plt.subplots(figsize=(20,10))\n",
    "g = sns.barplot(data=newdf, x='director', y='numvotes', hue='genres', \n",
    "            ax=ax, ci=None, palette=['red','limegreen','royalblue', 'gold'])\n",
    "ax.set_xlabel('Directors\\n(and the movies they are known for)', fontsize=25)\n",
    "ax.set_ylabel('Average number of reviews', fontsize = 20)\n",
    "ax.set_title('Top Movie Directors by number of reviews', fontsize=30)\n",
    "ax.set_yticklabels(('0 reviews', '200,000', '400,000', '600,000', '800,000',\n",
    "                    '1 million', '1.2 million', '1.4 million', '1.6 million'), fontsize=15)\n",
    "# the directors and the movies they are known for\n",
    "ax.set_xticklabels(('Christopher Nolan\\n(The Dark Knight)', 'Joss Whedon\\n(Firefly)', 'Tim Miller\\n(Deadpool)',\n",
    "                    'Gary Ross\\n(Hunger Games)', 'J.J. Abrams\\n(Star Trek)', \n",
    "                    'Peter Jackson\\n(Lord of The Rings)', 'Alan Taylor\\n(Thor)'), fontsize=15)\n",
    "\n",
    "# rotate the xticks and make the legend bigger\n",
    "plt.xticks(rotation=30, ha='center')\n",
    "plt.setp(g.get_legend().get_texts(), fontsize='25') \n",
    "plt.setp(g.get_legend().get_title(), fontsize='25')\n",
    "\n",
    "plt.show()"
   ]
  },
  {
   "cell_type": "markdown",
   "metadata": {},
   "source": [
    "## Analysis of the best Actors for the top four genres\n",
    "this graph will do the same thing that the directors graph did just for the actors instead"
   ]
  },
  {
   "cell_type": "code",
   "execution_count": null,
   "metadata": {},
   "outputs": [],
   "source": [
    "# give the function the genre and it will give you the top three actors\n",
    "def getBestActors(genre):\n",
    "    # the sample dataframes just for this graph\n",
    "    best_actor = tmdbsql.dropna(subset = ['actors', 'numvotes'])\n",
    "    movies = best_actor[best_actor['genres'].str.contains(genre)]\n",
    "    \n",
    "    # creates a masterlist of the names of all the actors in the database\n",
    "    master_list = []\n",
    "    for alist in movies['actors']:\n",
    "        for actor in alist.split(','):\n",
    "            master_list.append(actor)\n",
    "            \n",
    "    # gets rid of duplicate actor names\n",
    "    actors = set(master_list)\n",
    "\n",
    "    # calculates the success of the actor based on the mean number of votes and stores the result into a dict\n",
    "    actor_success = {}\n",
    "    for actor in actors:\n",
    "        success = movies[movies['actors'].str.contains(actor)]['numvotes'].mean()\n",
    "        actor_success[actor] = success\n",
    "    \n",
    "    # puts the dict into a format that is easier for the graph and limits it to the top 3\n",
    "    x = sorted(actor_success, key = actor_success.get, reverse = True)[:3]\n",
    "    y = sorted(actor_success.values(), reverse=True)[:3]\n",
    "    \n",
    "    return [x, y]"
   ]
  },
  {
   "cell_type": "code",
   "execution_count": null,
   "metadata": {},
   "outputs": [],
   "source": [
    "# calculates the best actors for each of the four most popular genres\n",
    "actor_action = getBestActors('Action')\n",
    "actor_adventure = getBestActors('Adventure')\n",
    "actor_scifi = getBestActors('Sci-Fi')\n",
    "actor_fantasy = getBestActors('Fantasy')\n",
    "\n",
    "# gets the best actors per genre\n",
    "best_actors = set(actor_action[0] + actor_adventure[0] + actor_scifi[0] + actor_fantasy[0])\n",
    "top_genres = ['Action', 'Adventure', 'Sci-Fi', 'Fantasy']\n",
    "\n",
    "# gets a dataframe we can use for the graph\n",
    "actdf = tmdbsql.dropna(subset = ['director', 'actors', 'numvotes'])\n",
    "actdf = actdf[['genres', 'numvotes', 'actors']]\n",
    "actdf = actdf[actdf['genres'].map(lambda x: any(substr in x for substr in top_genres))]\n",
    "actdf = actdf[actdf['actors'].map(lambda x: any(substr in x for substr in best_actors))]\n",
    "\n",
    "# splits up the actors lists per movie\n",
    "splitactor = pd.DataFrame(columns = ['genres', 'numvotes', 'actor'])\n",
    "for x, y in actdf.iterrows():\n",
    "    for actor in y['actors'].split(','):\n",
    "        splitactor.loc[len(splitactor.index)] = [y['genres'], y['numvotes'], actor]\n",
    "\n",
    "# splits up the genres list per movie\n",
    "actor_df = pd.DataFrame(columns = ['genres', 'numvotes', 'actor'])\n",
    "for x, y in splitactor.iterrows():\n",
    "    for genre in y['genres'].split(','):\n",
    "        actor_df.loc[len(actor_df.index)] = [genre, y['numvotes'], y['actor']]\n",
    "        \n",
    "# takes out the data we don't need\n",
    "actor_df = actor_df[actor_df['genres'].map(lambda x: x in top_genres)]\n",
    "actor_df = actor_df[actor_df['actor'].map(lambda x: x in best_actors)]"
   ]
  },
  {
   "cell_type": "code",
   "execution_count": null,
   "metadata": {},
   "outputs": [],
   "source": [
    "# the same graph we did for directors now for actors\n",
    "\n",
    "fig, ax = plt.subplots(figsize=(20,10))\n",
    "t = sns.barplot(data=actor_df, x='actor', y='numvotes', hue='genres', \n",
    "            ax=ax, ci=None, palette=['red','limegreen','royalblue', 'gold'])\n",
    "ax.set_xlabel('Actor\\n(and their best movie)', fontsize=30)\n",
    "ax.set_ylabel('Average number of reviews', fontsize = 30)\n",
    "ax.set_title('Top Movie Actors by number of reviews', fontsize=30)\n",
    "ax.set_yticklabels(('0 reviews', '200,000', '400,000', '600,000', '800,000',\n",
    "                    '1 million', '1.2 million', '1.4 million', '1.6 million'), fontsize=15)\n",
    "ax.set_xticklabels(('Leonardo DiCaprio\\n(Inception)', 'Joseph Gordan-Levitt\\n(The Dark Knight Rises)', \n",
    "                    'Ken Watanabe\\n(Godzilla)', 'Christian Bale\\n(Dark Knight)', 'Tom Hardy\\n(Venom)',\n",
    "                    'Oscar Isaac\\n(Ex Machina)', 'Andy Serkis\\n(Black Panther)', 'Michael Gambon\\n(Harry Potter)'), fontsize=15)\n",
    "plt.legend(loc='upper right')\n",
    "plt.setp(t.get_legend().get_texts(), fontsize='25') \n",
    "\n",
    "\n",
    "plt.xticks(rotation=30, ha='center')\n",
    "\n",
    "plt.show()"
   ]
  },
  {
   "cell_type": "code",
   "execution_count": null,
   "metadata": {},
   "outputs": [],
   "source": []
  }
 ],
 "metadata": {
  "kernelspec": {
   "display_name": "Python 3",
   "language": "python",
   "name": "python3"
  },
  "language_info": {
   "codemirror_mode": {
    "name": "ipython",
    "version": 3
   },
   "file_extension": ".py",
   "mimetype": "text/x-python",
   "name": "python",
   "nbconvert_exporter": "python",
   "pygments_lexer": "ipython3",
   "version": "3.8.5"
  }
 },
 "nbformat": 4,
 "nbformat_minor": 4
}
