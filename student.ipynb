{
 "cells": [
  {
   "cell_type": "markdown",
   "metadata": {},
   "source": [
    "## Final Project Submission\n",
    "\n",
    "Please fill out:\n",
    "* Student name: John Harrigan\n",
    "* Student pace: full time\n",
    "* Scheduled project review date/time: 10/7/2022\n",
    "* Instructor name: Joseph Mata\n",
    "* Blog post URL:\n"
   ]
  },
  {
   "cell_type": "code",
   "execution_count": 389,
   "metadata": {},
   "outputs": [],
   "source": [
    "import pandas as pd\n",
    "import sqlite3\n",
    "import re\n",
    "import seaborn as sns"
   ]
  },
  {
   "cell_type": "code",
   "execution_count": 449,
   "metadata": {},
   "outputs": [],
   "source": [
    "bom_df = pd.read_csv('./zippedData/bom.movie_gross.csv.gz')\n",
    "ret_info_df = pd.read_csv('./zippedData/rt.movie_info.tsv.gz', sep = '\\t')\n",
    "ret_reviews_df = pd.read_csv('./zippedData/rt.reviews.tsv.gz', sep = '\\t', encoding='unicode_escape')\n",
    "tmdb_df = pd.read_csv('./zippedData/tmdb.movies.csv.gz', index_col=0)\n",
    "tn_df = pd.read_csv('./zippedData/tn.movie_budgets.csv.gz')\n",
    "conn = sqlite3.Connection('./zippedData/john/im.db')"
   ]
  },
  {
   "cell_type": "markdown",
   "metadata": {},
   "source": [
    "## cleaning\n",
    "here we start the code"
   ]
  },
  {
   "cell_type": "code",
   "execution_count": 450,
   "metadata": {},
   "outputs": [],
   "source": [
    "pd.set_option('display.float_format', lambda x: '%.f' % x)\n",
    "tmdb_df.drop('original_title', axis=1, inplace = True)\n",
    "tmdb_df['genre_ids'].replace(to_replace= '[]', value = '[7]', inplace = True)\n",
    "getGenre = {\n",
    "    '7': 'undecided', '12': 'Adventure', '14': 'Fantasy', '16': 'Animation', '18': 'Drama', '27': 'Horror', '28': 'Action',\n",
    "    '35': 'Comedy', '36': 'History', '37': 'Western', '53': 'Thriller', '80': 'Crime', '99': 'Documentary', \n",
    "    '878': 'Science Fiction','9648': 'Mystery','10402': 'Music','10749':'Romance','10751': 'Family','10752': 'War','10770': 'TV'\n",
    "}\n",
    "def convert(glist):\n",
    "    description = ''\n",
    "    for num in glist.strip('][').split(', '):\n",
    "        description += getGenre[num]\n",
    "        description += ', '\n",
    "    return description.rstrip(', ')\n",
    "tmdb_df['genre_ids'] = tmdb_df['genre_ids'].map(lambda x: convert(x))\n",
    "tmdb_df.drop(['id', 'original_language'], axis=1, inplace=True)\n",
    "tmdb_df = tmdb_df[['title', 'release_date', 'genre_ids', 'popularity', 'vote_average', 'vote_count']]\n",
    "tmdb_df.drop_duplicates(inplace=True)"
   ]
  },
  {
   "cell_type": "code",
   "execution_count": 451,
   "metadata": {},
   "outputs": [],
   "source": [
    "tn_df['release_date'] = pd.to_datetime(tn_df['release_date'])\n",
    "tn_df['production_budget'] = tn_df['production_budget'].map(lambda x: int(x.replace('$','').replace(',','')))\n",
    "tn_df['domestic_gross'] = tn_df['domestic_gross'].map(lambda x: int(x.replace('$','').replace(',','')))\n",
    "tn_df['worldwide_gross'] = tn_df['worldwide_gross'].map(lambda x: int(x.replace('$','').replace(',','')))"
   ]
  },
  {
   "cell_type": "code",
   "execution_count": null,
   "metadata": {},
   "outputs": [],
   "source": []
  },
  {
   "cell_type": "code",
   "execution_count": 452,
   "metadata": {},
   "outputs": [],
   "source": [
    "bom_df['foreign_gross'] = bom_df['foreign_gross'].fillna('0')\n",
    "bom_df['foreign_gross'] = bom_df['foreign_gross'].map(lambda x: x.replace(',', '')).map(lambda x: float(x))\n",
    "bom_df['domestic_gross'] = bom_df['domestic_gross'].astype(float)\n",
    "\n",
    "bomtn = pd.merge(bom_df, tn_df, how='outer', left_on='title', right_on='movie')\n",
    "\n",
    "bomtn['title'] = bomtn['title'].fillna(bomtn['movie'])\n",
    "bomtn['domestic_gross_x'] = bomtn['domestic_gross_x'].fillna(bomtn['domestic_gross_y'])\n",
    "bomtn['foreign_gross'] = bomtn['foreign_gross'].fillna(bomtn['worldwide_gross'] - bomtn['domestic_gross_y'])\n",
    "bomtn['release_date'] = bomtn['release_date'].fillna(pd.to_datetime(bomtn['year'], format='%Y'))\n",
    "bomtn.drop(bomtn.columns[[1, 4, 5, 7, 9, 10]], axis=1, inplace=True)\n",
    "bomtn = bomtn[['title','release_date','production_budget', 'domestic_gross_x', 'foreign_gross']]\n",
    "bomtn.rename(columns={'domestic_gross_x':'domestic_gross'}, inplace=True)\n",
    "bomtn['worldwide_gross'] = bomtn['domestic_gross'] + bomtn['foreign_gross']\n",
    "bomtn.dropna(inplace=True)\n",
    "bomtn = bomtn[bomtn['worldwide_gross'] != 0.0]"
   ]
  },
  {
   "cell_type": "code",
   "execution_count": 302,
   "metadata": {},
   "outputs": [],
   "source": [
    "mvi = pd.read_sql('''\n",
    "SELECT movie_id, (primary_title) AS title, (start_year) year, (runtime_minutes) AS runtime, genres,\n",
    "(averagerating) AS avg_rating, numvotes\n",
    "FROM movie_basics\n",
    "LEFT JOIN movie_ratings\n",
    "USING(movie_id)\n",
    "\n",
    "''', conn)\n",
    "\n",
    "directors = pd.read_sql('''\n",
    "SELECT movie_id, (primary_name) AS director\n",
    "FROM principals\n",
    "JOIN persons\n",
    "USING(person_id)\n",
    "WHERE category = 'director'\n",
    "''', conn)\n",
    "directors = directors.drop_duplicates()\n",
    "directors = directors.groupby('movie_id').agg(lambda x: x.tolist()).reset_index()\n",
    "\n",
    "actors = pd.read_sql('''\n",
    "SELECT movie_id, (primary_name) AS actors\n",
    "FROM principals\n",
    "JOIN persons\n",
    "USING(person_id)\n",
    "WHERE category = 'actor'\n",
    "ORDER BY movie_id\n",
    "''', conn)\n",
    "actors = actors.drop_duplicates()\n",
    "actors = actors.groupby('movie_id').agg(lambda x: x.tolist()).reset_index()\n",
    "\n",
    "draft1 = pd.merge(mvi,directors, how = 'left', on = 'movie_id')\n",
    "sql_df = pd.merge(draft1, actors, how = 'left', on = 'movie_id')\n",
    "sql_df['runtime'].fillna(sql_df['runtime'].median(), inplace = True)\n",
    "sql_df.drop('movie_id', axis=1, inplace=True)"
   ]
  },
  {
   "cell_type": "code",
   "execution_count": 318,
   "metadata": {},
   "outputs": [
    {
     "data": {
      "text/html": [
       "<div>\n",
       "<style scoped>\n",
       "    .dataframe tbody tr th:only-of-type {\n",
       "        vertical-align: middle;\n",
       "    }\n",
       "\n",
       "    .dataframe tbody tr th {\n",
       "        vertical-align: top;\n",
       "    }\n",
       "\n",
       "    .dataframe thead th {\n",
       "        text-align: right;\n",
       "    }\n",
       "</style>\n",
       "<table border=\"1\" class=\"dataframe\">\n",
       "  <thead>\n",
       "    <tr style=\"text-align: right;\">\n",
       "      <th></th>\n",
       "      <th>title</th>\n",
       "      <th>year</th>\n",
       "      <th>runtime</th>\n",
       "      <th>genres</th>\n",
       "      <th>avg_rating</th>\n",
       "      <th>numvotes</th>\n",
       "      <th>director</th>\n",
       "      <th>actors</th>\n",
       "    </tr>\n",
       "  </thead>\n",
       "  <tbody>\n",
       "    <tr>\n",
       "      <th>0</th>\n",
       "      <td>Sunghursh</td>\n",
       "      <td>2013</td>\n",
       "      <td>175.0</td>\n",
       "      <td>Action,Crime,Drama</td>\n",
       "      <td>7.0</td>\n",
       "      <td>77.0</td>\n",
       "      <td>[Harnam Singh Rawail]</td>\n",
       "      <td>[Dilip Kumar, Balraj Sahni, Sanjeev Kumar]</td>\n",
       "    </tr>\n",
       "  </tbody>\n",
       "</table>\n",
       "</div>"
      ],
      "text/plain": [
       "       title  year  runtime              genres  avg_rating  numvotes  \\\n",
       "0  Sunghursh  2013    175.0  Action,Crime,Drama         7.0      77.0   \n",
       "\n",
       "                director                                      actors  \n",
       "0  [Harnam Singh Rawail]  [Dilip Kumar, Balraj Sahni, Sanjeev Kumar]  "
      ]
     },
     "execution_count": 318,
     "metadata": {},
     "output_type": "execute_result"
    }
   ],
   "source": [
    "sql_df.head(1)"
   ]
  },
  {
   "cell_type": "code",
   "execution_count": 308,
   "metadata": {
    "scrolled": false
   },
   "outputs": [
    {
     "data": {
      "text/html": [
       "<div>\n",
       "<style scoped>\n",
       "    .dataframe tbody tr th:only-of-type {\n",
       "        vertical-align: middle;\n",
       "    }\n",
       "\n",
       "    .dataframe tbody tr th {\n",
       "        vertical-align: top;\n",
       "    }\n",
       "\n",
       "    .dataframe thead th {\n",
       "        text-align: right;\n",
       "    }\n",
       "</style>\n",
       "<table border=\"1\" class=\"dataframe\">\n",
       "  <thead>\n",
       "    <tr style=\"text-align: right;\">\n",
       "      <th></th>\n",
       "      <th>title</th>\n",
       "      <th>release_date</th>\n",
       "      <th>genre_ids</th>\n",
       "      <th>popularity</th>\n",
       "      <th>vote_average</th>\n",
       "      <th>vote_count</th>\n",
       "    </tr>\n",
       "  </thead>\n",
       "  <tbody>\n",
       "    <tr>\n",
       "      <th>0</th>\n",
       "      <td>Harry Potter and the Deathly Hallows: Part 1</td>\n",
       "      <td>2010-11-19</td>\n",
       "      <td>Adventure, Fantasy, Family</td>\n",
       "      <td>33.533</td>\n",
       "      <td>7.7</td>\n",
       "      <td>10788</td>\n",
       "    </tr>\n",
       "  </tbody>\n",
       "</table>\n",
       "</div>"
      ],
      "text/plain": [
       "                                          title release_date  \\\n",
       "0  Harry Potter and the Deathly Hallows: Part 1   2010-11-19   \n",
       "\n",
       "                    genre_ids  popularity  vote_average  vote_count  \n",
       "0  Adventure, Fantasy, Family      33.533           7.7       10788  "
      ]
     },
     "execution_count": 308,
     "metadata": {},
     "output_type": "execute_result"
    }
   ],
   "source": [
    "tmdb_df.head(1)"
   ]
  },
  {
   "cell_type": "code",
   "execution_count": 347,
   "metadata": {},
   "outputs": [
    {
     "data": {
      "text/plain": [
       "0.68528527625959"
      ]
     },
     "execution_count": 347,
     "metadata": {},
     "output_type": "execute_result"
    }
   ],
   "source": [
    "tmdb_df['popularity'].corr(tmdb_df['vote_count'])"
   ]
  },
  {
   "cell_type": "code",
   "execution_count": 323,
   "metadata": {},
   "outputs": [
    {
     "data": {
      "text/html": [
       "<div>\n",
       "<style scoped>\n",
       "    .dataframe tbody tr th:only-of-type {\n",
       "        vertical-align: middle;\n",
       "    }\n",
       "\n",
       "    .dataframe tbody tr th {\n",
       "        vertical-align: top;\n",
       "    }\n",
       "\n",
       "    .dataframe thead th {\n",
       "        text-align: right;\n",
       "    }\n",
       "</style>\n",
       "<table border=\"1\" class=\"dataframe\">\n",
       "  <thead>\n",
       "    <tr style=\"text-align: right;\">\n",
       "      <th></th>\n",
       "      <th>title</th>\n",
       "      <th>year</th>\n",
       "      <th>runtime</th>\n",
       "      <th>genres</th>\n",
       "      <th>avg_rating</th>\n",
       "      <th>numvotes</th>\n",
       "      <th>director</th>\n",
       "      <th>actors</th>\n",
       "      <th>release_date</th>\n",
       "      <th>genre_ids</th>\n",
       "      <th>popularity</th>\n",
       "      <th>vote_average</th>\n",
       "      <th>vote_count</th>\n",
       "    </tr>\n",
       "  </thead>\n",
       "  <tbody>\n",
       "    <tr>\n",
       "      <th>0</th>\n",
       "      <td>Sunghursh</td>\n",
       "      <td>2013.0</td>\n",
       "      <td>175.0</td>\n",
       "      <td>Action,Crime,Drama</td>\n",
       "      <td>7.0</td>\n",
       "      <td>77.0</td>\n",
       "      <td>[Harnam Singh Rawail]</td>\n",
       "      <td>[Dilip Kumar, Balraj Sahni, Sanjeev Kumar]</td>\n",
       "      <td>NaN</td>\n",
       "      <td>NaN</td>\n",
       "      <td>NaN</td>\n",
       "      <td>NaN</td>\n",
       "      <td>NaN</td>\n",
       "    </tr>\n",
       "  </tbody>\n",
       "</table>\n",
       "</div>"
      ],
      "text/plain": [
       "       title    year  runtime              genres  avg_rating  numvotes  \\\n",
       "0  Sunghursh  2013.0    175.0  Action,Crime,Drama         7.0      77.0   \n",
       "\n",
       "                director                                      actors  \\\n",
       "0  [Harnam Singh Rawail]  [Dilip Kumar, Balraj Sahni, Sanjeev Kumar]   \n",
       "\n",
       "  release_date genre_ids  popularity  vote_average  vote_count  \n",
       "0          NaN       NaN         NaN           NaN         NaN  "
      ]
     },
     "execution_count": 323,
     "metadata": {},
     "output_type": "execute_result"
    }
   ],
   "source": [
    "tmdbsql.head(1)"
   ]
  },
  {
   "cell_type": "code",
   "execution_count": 343,
   "metadata": {},
   "outputs": [],
   "source": [
    "tmdbsql = pd.merge(sql_df, tmdb_df,how ='outer', on='title' )\n",
    "tmdbsql['avg_rating'] = tmdbsql['avg_rating'].fillna(tmdbsql['vote_average'])\n",
    "tmdbsql['numvotes'] = tmdbsql['numvotes'].fillna(tmdbsql['vote_count'])\n",
    "tmdbsql['genres'] = tmdbsql['genres'].fillna(tmdbsql['genre_ids'])"
   ]
  },
  {
   "cell_type": "code",
   "execution_count": 344,
   "metadata": {},
   "outputs": [
    {
     "data": {
      "text/plain": [
       "title                0\n",
       "year              9771\n",
       "runtime           9771\n",
       "genres            5154\n",
       "avg_rating       69660\n",
       "numvotes         69660\n",
       "director         27752\n",
       "actors           61292\n",
       "release_date    126595\n",
       "genre_ids       126595\n",
       "popularity      126595\n",
       "vote_average    126595\n",
       "vote_count      126595\n",
       "dtype: int64"
      ]
     },
     "execution_count": 344,
     "metadata": {},
     "output_type": "execute_result"
    }
   ],
   "source": [
    "tmdbsql.isna().sum()"
   ]
  },
  {
   "cell_type": "code",
   "execution_count": null,
   "metadata": {},
   "outputs": [],
   "source": []
  }
 ],
 "metadata": {
  "kernelspec": {
   "display_name": "Python 3",
   "language": "python",
   "name": "python3"
  },
  "language_info": {
   "codemirror_mode": {
    "name": "ipython",
    "version": 3
   },
   "file_extension": ".py",
   "mimetype": "text/x-python",
   "name": "python",
   "nbconvert_exporter": "python",
   "pygments_lexer": "ipython3",
   "version": "3.8.5"
  }
 },
 "nbformat": 4,
 "nbformat_minor": 2
}
